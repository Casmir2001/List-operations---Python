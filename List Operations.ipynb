{
 "cells": [
  {
   "cell_type": "code",
   "execution_count": 3,
   "id": "eaca1ddd",
   "metadata": {
    "scrolled": true
   },
   "outputs": [
    {
     "name": "stdout",
     "output_type": "stream",
     "text": [
      "Index of 30 in my_list: 3\n"
     ]
    }
   ],
   "source": [
    "# Create an empty list called my_list\n",
    "my_list = []\n",
    "\n",
    "# Append the following elements to my_list: 10, 20, 30, 40\n",
    "my_list.extend([10, 20, 30, 40])\n",
    "\n",
    "# Insert the value 15 at the second position in the list\n",
    "my_list.insert(1, 15)\n",
    "\n",
    "# Extend my_list with another list: [50, 60, 70]\n",
    "my_list.extend([50, 60, 70])\n",
    "\n",
    "# Remove the last element from my_list\n",
    "my_list.pop()\n",
    "\n",
    "# Sort my_list in ascending order\n",
    "my_list.sort()\n",
    "\n",
    "# Find and print the index of the value 30 in my_list\n",
    "index_30 = my_list.index(30)\n",
    "print(\"Index of 30 in my_list:\", index_30)\n"
   ]
  },
  {
   "cell_type": "code",
   "execution_count": null,
   "id": "d8a95201",
   "metadata": {},
   "outputs": [],
   "source": []
  },
  {
   "cell_type": "code",
   "execution_count": 4,
   "id": "f3f810f8",
   "metadata": {},
   "outputs": [],
   "source": []
  },
  {
   "cell_type": "code",
   "execution_count": 5,
   "id": "57e66153",
   "metadata": {},
   "outputs": [],
   "source": [
    "\n"
   ]
  },
  {
   "cell_type": "code",
   "execution_count": null,
   "id": "cd672019",
   "metadata": {},
   "outputs": [],
   "source": []
  },
  {
   "cell_type": "code",
   "execution_count": null,
   "id": "d1f01ef6",
   "metadata": {},
   "outputs": [],
   "source": []
  }
 ],
 "metadata": {
  "kernelspec": {
   "display_name": "Python 3 (ipykernel)",
   "language": "python",
   "name": "python3"
  },
  "language_info": {
   "codemirror_mode": {
    "name": "ipython",
    "version": 3
   },
   "file_extension": ".py",
   "mimetype": "text/x-python",
   "name": "python",
   "nbconvert_exporter": "python",
   "pygments_lexer": "ipython3",
   "version": "3.10.9"
  }
 },
 "nbformat": 4,
 "nbformat_minor": 5
}
